{
 "cells": [
  {
   "cell_type": "code",
   "execution_count": 16,
   "metadata": {},
   "outputs": [],
   "source": [
    "from ml.data import process_data\n",
    "from ml.model import train_model, compute_model_metrics, inference\n",
    "from sklearn.model_selection import train_test_split\n",
    "from joblib import dump, load\n",
    "\n",
    "# Add the necessary imports for the starter code.\n",
    "import os\n",
    "import sys\n",
    "import pandas as pd\n",
    "\n",
    "file_dir = os.path.dirname(os.path.abspath(\"__file__\"))\n",
    "sys.path.insert(0, file_dir)"
   ]
  },
  {
   "cell_type": "code",
   "execution_count": 17,
   "metadata": {},
   "outputs": [],
   "source": [
    "data = pd.read_csv(file_dir + '/../data/clean_census.csv')"
   ]
  },
  {
   "cell_type": "code",
   "execution_count": 18,
   "metadata": {},
   "outputs": [
    {
     "data": {
      "text/plain": [
       "Index(['age', 'workclass', 'fnlgt', 'education', 'education-num',\n",
       "       'marital-status', 'occupation', 'relationship', 'race', 'sex',\n",
       "       'capital-gain', 'capital-loss', 'hours-per-week', 'native-country',\n",
       "       'salary'],\n",
       "      dtype='object')"
      ]
     },
     "execution_count": 18,
     "metadata": {},
     "output_type": "execute_result"
    }
   ],
   "source": [
    "data.columns"
   ]
  },
  {
   "cell_type": "code",
   "execution_count": 35,
   "metadata": {},
   "outputs": [
    {
     "data": {
      "text/plain": [
       "array(['State-gov', 'Self-emp-not-inc', 'Private', 'Federal-gov',\n",
       "       'Local-gov', '?', 'Self-emp-inc', 'Without-pay', 'Never-worked'],\n",
       "      dtype=object)"
      ]
     },
     "execution_count": 35,
     "metadata": {},
     "output_type": "execute_result"
    }
   ],
   "source": [
    "data.head(5)\n",
    "data['workclass'].unique()"
   ]
  },
  {
   "cell_type": "code",
   "execution_count": 20,
   "metadata": {},
   "outputs": [],
   "source": [
    "train, test = train_test_split(data, test_size=0.20)"
   ]
  },
  {
   "cell_type": "code",
   "execution_count": 21,
   "metadata": {},
   "outputs": [],
   "source": [
    "cat_features = [\n",
    "    \"workclass\",\n",
    "    \"education\",\n",
    "    \"marital-status\",\n",
    "    \"occupation\",\n",
    "    \"relationship\",\n",
    "    \"race\",\n",
    "    \"sex\",\n",
    "    \"native-country\",\n",
    "]"
   ]
  },
  {
   "cell_type": "code",
   "execution_count": 22,
   "metadata": {},
   "outputs": [],
   "source": [
    "X_train, y_train, encoder, lb = process_data(\n",
    "    train, categorical_features=cat_features, label=\"salary\", training=True\n",
    ")"
   ]
  },
  {
   "cell_type": "code",
   "execution_count": 23,
   "metadata": {},
   "outputs": [],
   "source": [
    "X_test, y_test, encoder, lb = process_data(\n",
    "    test, categorical_features=cat_features, label=\"salary\", training=False, encoder=encoder, lb=lb\n",
    ")"
   ]
  },
  {
   "cell_type": "code",
   "execution_count": 24,
   "metadata": {},
   "outputs": [],
   "source": [
    "rf_model = train_model(X_train, y_train)"
   ]
  },
  {
   "cell_type": "code",
   "execution_count": 25,
   "metadata": {},
   "outputs": [
    {
     "data": {
      "text/plain": [
       "'RandomForestClassifier'"
      ]
     },
     "execution_count": 25,
     "metadata": {},
     "output_type": "execute_result"
    }
   ],
   "source": [
    "# from sklearn.utils import estimator_checks\n",
    "\n",
    "# estimator_checks.check_estimator(rf_model)\n",
    "rf_model.__class__.__name__"
   ]
  },
  {
   "cell_type": "code",
   "execution_count": 26,
   "metadata": {},
   "outputs": [
    {
     "name": "stdout",
     "output_type": "stream",
     "text": [
      "0.5 0.5 0.5\n"
     ]
    }
   ],
   "source": [
    "y= [1, 1, 0, 0]\n",
    "predicts =  [0, 1,1, 0]\n",
    "precision, recall, fbeta = compute_model_metrics(y, predicts)\n",
    "print(precision, recall, fbeta)"
   ]
  },
  {
   "cell_type": "code",
   "execution_count": 27,
   "metadata": {},
   "outputs": [],
   "source": [
    "train, test = train_test_split(data, test_size=0.20)\n",
    "\n",
    "X, y, _, _ = process_data(\n",
    "    train, categorical_features=cat_features, label=\"salary\", training=True\n",
    ")\n",
    "assert len(X) == len(y)"
   ]
  },
  {
   "cell_type": "code",
   "execution_count": 28,
   "metadata": {},
   "outputs": [],
   "source": [
    "train, test = train_test_split(data, test_size=0.20)\n",
    "from sklearn.ensemble import RandomForestClassifier\n",
    "X, y, _, _ = process_data(\n",
    "    train, categorical_features=cat_features, label=\"salary\", training=True\n",
    ")\n",
    "model = train_model(X, y)\n",
    "# Check if this is a classification model\n",
    "assert isinstance(model, RandomForestClassifier)"
   ]
  },
  {
   "cell_type": "code",
   "execution_count": 29,
   "metadata": {},
   "outputs": [
    {
     "name": "stdout",
     "output_type": "stream",
     "text": [
      "0.5 0.5 0.5\n"
     ]
    }
   ],
   "source": [
    "y = [1, 1, 0, 0]\n",
    "predicts = [0, 1, 1, 0]\n",
    "precision, recall, fbeta = compute_model_metrics(y, predicts)\n",
    "print(precision, recall, fbeta)\n",
    "assert abs(precision - 0.5) < 0.01 and abs(recall -\n",
    "                                            0.5) < 0.01 and abs(fbeta - 0.5) < 0.01"
   ]
  },
  {
   "cell_type": "code",
   "execution_count": 30,
   "metadata": {},
   "outputs": [],
   "source": [
    "X, y, _, _ = process_data(\n",
    "        data, categorical_features=cat_features, label=\"salary\", training=True\n",
    "    )\n",
    "model = train_model(X, y)\n",
    "pred = inference(model, X)\n",
    "# Check if pred.shape is similar to y.shape\n",
    "assert y.shape == pred.shape"
   ]
  },
  {
   "cell_type": "code",
   "execution_count": 31,
   "metadata": {},
   "outputs": [
    {
     "name": "stdout",
     "output_type": "stream",
     "text": [
      "Precision:  1.0, Recall:  1.0, Fbeta:  1.0\n"
     ]
    }
   ],
   "source": [
    "y_pred = inference(model, X_test)\n",
    "precision, recall, fbeta = compute_model_metrics(y_test, y_pred)\n",
    "print(\n",
    "    f\"Precision: {precision: .1f}, Recall: {recall: .1f}, Fbeta: {fbeta: .1f}\")"
   ]
  },
  {
   "cell_type": "code",
   "execution_count": 36,
   "metadata": {},
   "outputs": [],
   "source": [
    "def slice_census(cat_features):\n",
    "    file_dir = os.path.dirname(os.path.abspath(\"__file__\"))\n",
    "    sys.path.insert(0, file_dir)\n",
    "\n",
    "    data = pd.read_csv(file_dir + \"/../data/clean_census.csv\")\n",
    "    model = joblib.load(file_dir + \"/../model/census_rfmodel.pkl\")\n",
    "    encoder = joblib.load(file_dir + \"/../model/census_encoder.pkl\")\n",
    "    lb = joblib.load(file_dir + \"/../model/census_lb.pkl\")\n",
    "\n",
    "    os.makedirs(file_dir + \"/../slice_metrics\", exist_ok=True)\n",
    "    flie = open(file_dir + \"/../slice_metrics/slice_output.txt\", \"w\")\n",
    "    for slice_feature in cat_features:\n",
    "        for elem in data[slice_feature].unique():\n",
    "            data_temp = data[data[slice_feature] == elem]\n",
    "            X, y, _, _ = process_data(\n",
    "                data_temp,\n",
    "                categorical_features=cat_features,\n",
    "                label=\"salary\",\n",
    "                training=False,\n",
    "                encoder=encoder,\n",
    "                lb=lb,\n",
    "            )\n",
    "            predicts = inference(model, X)\n",
    "            precision, recall, fbeta = compute_model_metrics(y, predicts)\n",
    "            txt_line = f\"{slice_feature} - {elem}: Precision: {precision: .2f}. Recall: {recall: .2f}. Fbeta: {fbeta: .2f}\\n\"\n",
    "            flie.write(txt_line)\n",
    "    flie.close()"
   ]
  },
  {
   "cell_type": "code",
   "execution_count": 37,
   "metadata": {},
   "outputs": [],
   "source": [
    "slice_census(cat_features)"
   ]
  }
 ],
 "metadata": {
  "kernelspec": {
   "display_name": "Python 3.8.0 ('mlops_c4_prj')",
   "language": "python",
   "name": "python3"
  },
  "language_info": {
   "codemirror_mode": {
    "name": "ipython",
    "version": 3
   },
   "file_extension": ".py",
   "mimetype": "text/x-python",
   "name": "python",
   "nbconvert_exporter": "python",
   "pygments_lexer": "ipython3",
   "version": "3.8.0"
  },
  "orig_nbformat": 4,
  "vscode": {
   "interpreter": {
    "hash": "112a1c37ccdd242ce88db1bcb3079e7c60d9d771d247ffacf3c1dcb548be5de9"
   }
  }
 },
 "nbformat": 4,
 "nbformat_minor": 2
}
